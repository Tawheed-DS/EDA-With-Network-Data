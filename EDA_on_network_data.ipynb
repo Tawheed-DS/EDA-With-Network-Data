{
  "nbformat": 4,
  "nbformat_minor": 0,
  "metadata": {
    "colab": {
      "name": "EDA on network data.ipynb",
      "provenance": [],
      "authorship_tag": "ABX9TyOie68Ro1yli39UpNGtY/6X",
      "include_colab_link": true
    },
    "kernelspec": {
      "name": "python3",
      "display_name": "Python 3"
    },
    "language_info": {
      "name": "python"
    }
  },
  "cells": [
    {
      "cell_type": "markdown",
      "metadata": {
        "id": "view-in-github",
        "colab_type": "text"
      },
      "source": [
        "<a href=\"https://colab.research.google.com/github/Tawheed-DS/EDA-With-Network-Data/blob/main/EDA_on_network_data.ipynb\" target=\"_parent\"><img src=\"https://colab.research.google.com/assets/colab-badge.svg\" alt=\"Open In Colab\"/></a>"
      ]
    },
    {
      "cell_type": "code",
      "metadata": {
        "colab": {
          "base_uri": "https://localhost:8080/"
        },
        "id": "-CkDCIRShaQg",
        "outputId": "63a45f75-bed5-4efe-e6ac-ead46c69765e"
      },
      "source": [
        "from google.colab import drive\n",
        "drive.mount('/content/drive')"
      ],
      "execution_count": null,
      "outputs": [
        {
          "output_type": "stream",
          "name": "stdout",
          "text": [
            "Mounted at /content/drive\n"
          ]
        }
      ]
    },
    {
      "cell_type": "code",
      "metadata": {
        "id": "YGL05t19ha3l"
      },
      "source": [
        "import pandas as pd \n",
        "import numpy as np\n",
        "import matplotlib.pyplot as plt\n",
        "import seaborn as sns"
      ],
      "execution_count": null,
      "outputs": []
    },
    {
      "cell_type": "code",
      "metadata": {
        "id": "I3R_3grKhqnB"
      },
      "source": [
        "path = '/content/drive/MyDrive/Data files/cs448b_ipasn.csv'\n",
        "data = pd.read_csv(path)"
      ],
      "execution_count": null,
      "outputs": []
    },
    {
      "cell_type": "code",
      "metadata": {
        "colab": {
          "base_uri": "https://localhost:8080/"
        },
        "id": "VtavUfLenLLr",
        "outputId": "9a32b623-3a8b-4e18-a1e4-9a4cb474947c"
      },
      "source": [
        "data.shape"
      ],
      "execution_count": null,
      "outputs": [
        {
          "output_type": "execute_result",
          "data": {
            "text/plain": [
              "(20803, 4)"
            ]
          },
          "metadata": {},
          "execution_count": 26
        }
      ]
    },
    {
      "cell_type": "code",
      "metadata": {
        "colab": {
          "base_uri": "https://localhost:8080/",
          "height": 202
        },
        "id": "TCKOSuINh5G_",
        "outputId": "cbdde023-9b04-4fa0-b736-7728954f7a2a"
      },
      "source": [
        "data.head()"
      ],
      "execution_count": null,
      "outputs": [
        {
          "output_type": "execute_result",
          "data": {
            "text/html": [
              "<div>\n",
              "<style scoped>\n",
              "    .dataframe tbody tr th:only-of-type {\n",
              "        vertical-align: middle;\n",
              "    }\n",
              "\n",
              "    .dataframe tbody tr th {\n",
              "        vertical-align: top;\n",
              "    }\n",
              "\n",
              "    .dataframe thead th {\n",
              "        text-align: right;\n",
              "    }\n",
              "</style>\n",
              "<table border=\"1\" class=\"dataframe\">\n",
              "  <thead>\n",
              "    <tr style=\"text-align: right;\">\n",
              "      <th></th>\n",
              "      <th>date</th>\n",
              "      <th>l_ipn</th>\n",
              "      <th>r_asn</th>\n",
              "      <th>f</th>\n",
              "    </tr>\n",
              "  </thead>\n",
              "  <tbody>\n",
              "    <tr>\n",
              "      <th>0</th>\n",
              "      <td>2006-07-01</td>\n",
              "      <td>0</td>\n",
              "      <td>701</td>\n",
              "      <td>1</td>\n",
              "    </tr>\n",
              "    <tr>\n",
              "      <th>1</th>\n",
              "      <td>2006-07-01</td>\n",
              "      <td>0</td>\n",
              "      <td>714</td>\n",
              "      <td>1</td>\n",
              "    </tr>\n",
              "    <tr>\n",
              "      <th>2</th>\n",
              "      <td>2006-07-01</td>\n",
              "      <td>0</td>\n",
              "      <td>1239</td>\n",
              "      <td>1</td>\n",
              "    </tr>\n",
              "    <tr>\n",
              "      <th>3</th>\n",
              "      <td>2006-07-01</td>\n",
              "      <td>0</td>\n",
              "      <td>1680</td>\n",
              "      <td>1</td>\n",
              "    </tr>\n",
              "    <tr>\n",
              "      <th>4</th>\n",
              "      <td>2006-07-01</td>\n",
              "      <td>0</td>\n",
              "      <td>2514</td>\n",
              "      <td>1</td>\n",
              "    </tr>\n",
              "  </tbody>\n",
              "</table>\n",
              "</div>"
            ],
            "text/plain": [
              "         date  l_ipn  r_asn  f\n",
              "0  2006-07-01      0    701  1\n",
              "1  2006-07-01      0    714  1\n",
              "2  2006-07-01      0   1239  1\n",
              "3  2006-07-01      0   1680  1\n",
              "4  2006-07-01      0   2514  1"
            ]
          },
          "metadata": {},
          "execution_count": 4
        }
      ]
    },
    {
      "cell_type": "code",
      "metadata": {
        "colab": {
          "base_uri": "https://localhost:8080/"
        },
        "id": "Z16bEIVPh8KB",
        "outputId": "38685a3a-2910-4ad2-ac0d-87d9d100b503"
      },
      "source": [
        "data.info()"
      ],
      "execution_count": null,
      "outputs": [
        {
          "output_type": "stream",
          "name": "stdout",
          "text": [
            "<class 'pandas.core.frame.DataFrame'>\n",
            "RangeIndex: 20803 entries, 0 to 20802\n",
            "Data columns (total 4 columns):\n",
            " #   Column  Non-Null Count  Dtype \n",
            "---  ------  --------------  ----- \n",
            " 0   date    20803 non-null  object\n",
            " 1   l_ipn   20803 non-null  int64 \n",
            " 2   r_asn   20803 non-null  int64 \n",
            " 3   f       20803 non-null  int64 \n",
            "dtypes: int64(3), object(1)\n",
            "memory usage: 650.2+ KB\n"
          ]
        }
      ]
    },
    {
      "cell_type": "code",
      "metadata": {
        "id": "WicCcP6-ka1Y"
      },
      "source": [
        "data['date'] = pd.to_datetime(data['date'])"
      ],
      "execution_count": null,
      "outputs": []
    },
    {
      "cell_type": "code",
      "metadata": {
        "colab": {
          "base_uri": "https://localhost:8080/"
        },
        "id": "FGxeKNhOkgs0",
        "outputId": "d88e0108-3669-445f-f987-5612277a10c7"
      },
      "source": [
        "data.info()"
      ],
      "execution_count": null,
      "outputs": [
        {
          "output_type": "stream",
          "name": "stdout",
          "text": [
            "<class 'pandas.core.frame.DataFrame'>\n",
            "RangeIndex: 20803 entries, 0 to 20802\n",
            "Data columns (total 4 columns):\n",
            " #   Column  Non-Null Count  Dtype         \n",
            "---  ------  --------------  -----         \n",
            " 0   date    20803 non-null  datetime64[ns]\n",
            " 1   l_ipn   20803 non-null  int64         \n",
            " 2   r_asn   20803 non-null  int64         \n",
            " 3   f       20803 non-null  int64         \n",
            "dtypes: datetime64[ns](1), int64(3)\n",
            "memory usage: 650.2 KB\n"
          ]
        }
      ]
    },
    {
      "cell_type": "code",
      "metadata": {
        "colab": {
          "base_uri": "https://localhost:8080/"
        },
        "id": "WD0FJr2qkiuv",
        "outputId": "a722d3b4-44b0-4991-c85d-a2af406071d2"
      },
      "source": [
        "# Number of unique days data belongs to\n",
        "data.date.nunique()"
      ],
      "execution_count": null,
      "outputs": [
        {
          "output_type": "execute_result",
          "data": {
            "text/plain": [
              "92"
            ]
          },
          "metadata": {},
          "execution_count": 16
        }
      ]
    },
    {
      "cell_type": "code",
      "metadata": {
        "colab": {
          "base_uri": "https://localhost:8080/"
        },
        "id": "ZdCX55VSkuhf",
        "outputId": "07ac06dd-096e-4b02-e087-2edca9815ef7"
      },
      "source": [
        "data.l_ipn.unique()"
      ],
      "execution_count": null,
      "outputs": [
        {
          "output_type": "execute_result",
          "data": {
            "text/plain": [
              "array([0, 1, 2, 3, 4, 5, 6, 7, 8, 9])"
            ]
          },
          "metadata": {},
          "execution_count": 19
        }
      ]
    },
    {
      "cell_type": "code",
      "metadata": {
        "colab": {
          "base_uri": "https://localhost:8080/"
        },
        "id": "-qVWW5mOl_zX",
        "outputId": "05166942-8632-49db-986a-4f8fc01f6f32"
      },
      "source": [
        "data.r_asn.nunique()"
      ],
      "execution_count": null,
      "outputs": [
        {
          "output_type": "execute_result",
          "data": {
            "text/plain": [
              "2005"
            ]
          },
          "metadata": {},
          "execution_count": 18
        }
      ]
    },
    {
      "cell_type": "code",
      "metadata": {
        "colab": {
          "base_uri": "https://localhost:8080/"
        },
        "id": "_0DKdZAunTmk",
        "outputId": "9c48fa6c-aa24-474a-dd99-1d35076cb528"
      },
      "source": [
        "data.f.describe()"
      ],
      "execution_count": null,
      "outputs": [
        {
          "output_type": "execute_result",
          "data": {
            "text/plain": [
              "count     20803.000000\n",
              "mean         93.914243\n",
              "std        5764.995269\n",
              "min           1.000000\n",
              "25%           1.000000\n",
              "50%           2.000000\n",
              "75%           8.000000\n",
              "max      784234.000000\n",
              "Name: f, dtype: float64"
            ]
          },
          "metadata": {},
          "execution_count": 31
        }
      ]
    },
    {
      "cell_type": "code",
      "metadata": {
        "colab": {
          "base_uri": "https://localhost:8080/",
          "height": 308
        },
        "id": "0tb2DUwyowS8",
        "outputId": "5a08c145-2d41-4615-fd6e-397fe081aaf0"
      },
      "source": [
        "# Plot average count of connections on different dates\n",
        "data.groupby('date')['f'].mean().plot()"
      ],
      "execution_count": null,
      "outputs": [
        {
          "output_type": "execute_result",
          "data": {
            "text/plain": [
              "<matplotlib.axes._subplots.AxesSubplot at 0x7f767d951110>"
            ]
          },
          "metadata": {},
          "execution_count": 118
        },
        {
          "output_type": "display_data",
          "data": {
            "image/png": "[encoded data removed]",
            "text/plain": [
              "<Figure size 432x288 with 1 Axes>"
            ]
          },
          "metadata": {
            "needs_background": "light"
          }
        }
      ]
    },
    {
      "cell_type": "code",
      "metadata": {
        "colab": {
          "base_uri": "https://localhost:8080/"
        },
        "id": "a91HujFFp4vu",
        "outputId": "7b26d69b-af22-41b2-f346-7b5fc9119d41"
      },
      "source": [
        "# Check the dates for this surge in connections\n",
        "data.groupby('date')['f'].mean().sort_values(ascending=False)"
      ],
      "execution_count": null,
      "outputs": [
        {
          "output_type": "execute_result",
          "data": {
            "text/plain": [
              "date\n",
              "2006-09-18    4307.633880\n",
              "2006-09-17    1849.846667\n",
              "2006-08-17     170.571429\n",
              "2006-09-29     164.162338\n",
              "2006-09-20     141.651584\n",
              "                 ...     \n",
              "2006-07-13      16.754464\n",
              "2006-09-06      15.974619\n",
              "2006-09-15      15.930233\n",
              "2006-07-22      15.838710\n",
              "2006-08-07      15.760274\n",
              "Name: f, Length: 92, dtype: float64"
            ]
          },
          "metadata": {},
          "execution_count": 58
        }
      ]
    },
    {
      "cell_type": "code",
      "metadata": {
        "colab": {
          "base_uri": "https://localhost:8080/",
          "height": 202
        },
        "id": "9KmQew8YrmK-",
        "outputId": "673ce394-cb04-4ec2-9605-3edcb4d3d699"
      },
      "source": [
        "# Identify the ip address for september 18\n",
        "data[data['date']=='2006-09-18'].sort_values(by='f',ascending = False).head()"
      ],
      "execution_count": null,
      "outputs": [
        {
          "output_type": "execute_result",
          "data": {
            "text/html": [
              "<div>\n",
              "<style scoped>\n",
              "    .dataframe tbody tr th:only-of-type {\n",
              "        vertical-align: middle;\n",
              "    }\n",
              "\n",
              "    .dataframe tbody tr th {\n",
              "        vertical-align: top;\n",
              "    }\n",
              "\n",
              "    .dataframe thead th {\n",
              "        text-align: right;\n",
              "    }\n",
              "</style>\n",
              "<table border=\"1\" class=\"dataframe\">\n",
              "  <thead>\n",
              "    <tr style=\"text-align: right;\">\n",
              "      <th></th>\n",
              "      <th>date</th>\n",
              "      <th>l_ipn</th>\n",
              "      <th>r_asn</th>\n",
              "      <th>f</th>\n",
              "    </tr>\n",
              "  </thead>\n",
              "  <tbody>\n",
              "    <tr>\n",
              "      <th>18392</th>\n",
              "      <td>2006-09-18</td>\n",
              "      <td>4</td>\n",
              "      <td>3671</td>\n",
              "      <td>784234</td>\n",
              "    </tr>\n",
              "    <tr>\n",
              "      <th>18391</th>\n",
              "      <td>2006-09-18</td>\n",
              "      <td>4</td>\n",
              "      <td>3265</td>\n",
              "      <td>548</td>\n",
              "    </tr>\n",
              "    <tr>\n",
              "      <th>18351</th>\n",
              "      <td>2006-09-18</td>\n",
              "      <td>2</td>\n",
              "      <td>1239</td>\n",
              "      <td>542</td>\n",
              "    </tr>\n",
              "    <tr>\n",
              "      <th>18305</th>\n",
              "      <td>2006-09-18</td>\n",
              "      <td>0</td>\n",
              "      <td>1239</td>\n",
              "      <td>541</td>\n",
              "    </tr>\n",
              "    <tr>\n",
              "      <th>18468</th>\n",
              "      <td>2006-09-18</td>\n",
              "      <td>8</td>\n",
              "      <td>15169</td>\n",
              "      <td>372</td>\n",
              "    </tr>\n",
              "  </tbody>\n",
              "</table>\n",
              "</div>"
            ],
            "text/plain": [
              "            date  l_ipn  r_asn       f\n",
              "18392 2006-09-18      4   3671  784234\n",
              "18391 2006-09-18      4   3265     548\n",
              "18351 2006-09-18      2   1239     542\n",
              "18305 2006-09-18      0   1239     541\n",
              "18468 2006-09-18      8  15169     372"
            ]
          },
          "metadata": {},
          "execution_count": 66
        }
      ]
    },
    {
      "cell_type": "code",
      "metadata": {
        "colab": {
          "base_uri": "https://localhost:8080/",
          "height": 202
        },
        "id": "3Vu_XnAWtaf8",
        "outputId": "7535d227-5b80-40eb-c90a-c537608a6545"
      },
      "source": [
        "# Identify the ip address for september 17\n",
        "data[data['date']=='2006-09-17'].sort_values(by='f',ascending = False).head()"
      ],
      "execution_count": null,
      "outputs": [
        {
          "output_type": "execute_result",
          "data": {
            "text/html": [
              "<div>\n",
              "<style scoped>\n",
              "    .dataframe tbody tr th:only-of-type {\n",
              "        vertical-align: middle;\n",
              "    }\n",
              "\n",
              "    .dataframe tbody tr th {\n",
              "        vertical-align: top;\n",
              "    }\n",
              "\n",
              "    .dataframe thead th {\n",
              "        text-align: right;\n",
              "    }\n",
              "</style>\n",
              "<table border=\"1\" class=\"dataframe\">\n",
              "  <thead>\n",
              "    <tr style=\"text-align: right;\">\n",
              "      <th></th>\n",
              "      <th>date</th>\n",
              "      <th>l_ipn</th>\n",
              "      <th>r_asn</th>\n",
              "      <th>f</th>\n",
              "    </tr>\n",
              "  </thead>\n",
              "  <tbody>\n",
              "    <tr>\n",
              "      <th>18237</th>\n",
              "      <td>2006-09-17</td>\n",
              "      <td>4</td>\n",
              "      <td>3671</td>\n",
              "      <td>274011</td>\n",
              "    </tr>\n",
              "    <tr>\n",
              "      <th>18236</th>\n",
              "      <td>2006-09-17</td>\n",
              "      <td>4</td>\n",
              "      <td>3265</td>\n",
              "      <td>646</td>\n",
              "    </tr>\n",
              "    <tr>\n",
              "      <th>18170</th>\n",
              "      <td>2006-09-17</td>\n",
              "      <td>0</td>\n",
              "      <td>9370</td>\n",
              "      <td>471</td>\n",
              "    </tr>\n",
              "    <tr>\n",
              "      <th>18202</th>\n",
              "      <td>2006-09-17</td>\n",
              "      <td>2</td>\n",
              "      <td>9370</td>\n",
              "      <td>421</td>\n",
              "    </tr>\n",
              "    <tr>\n",
              "      <th>18293</th>\n",
              "      <td>2006-09-17</td>\n",
              "      <td>8</td>\n",
              "      <td>6517</td>\n",
              "      <td>235</td>\n",
              "    </tr>\n",
              "  </tbody>\n",
              "</table>\n",
              "</div>"
            ],
            "text/plain": [
              "            date  l_ipn  r_asn       f\n",
              "18237 2006-09-17      4   3671  274011\n",
              "18236 2006-09-17      4   3265     646\n",
              "18170 2006-09-17      0   9370     471\n",
              "18202 2006-09-17      2   9370     421\n",
              "18293 2006-09-17      8   6517     235"
            ]
          },
          "metadata": {},
          "execution_count": 67
        }
      ]
    },
    {
      "cell_type": "markdown",
      "metadata": {
        "id": "0_yPlURWtI51"
      },
      "source": [
        "####Clearly there is an extreme surge in the count of connections on 17th and 18th september on ip address 4\n",
        "\n",
        "#####**Hence we have successfully identified why reports of suspicous activity was triggered on 18-09-2006 for ip address 4**"
      ]
    },
    {
      "cell_type": "code",
      "metadata": {
        "id": "yCWjmaZFxqOo"
      },
      "source": [
        ""
      ],
      "execution_count": null,
      "outputs": []
    },
    {
      "cell_type": "code",
      "metadata": {
        "colab": {
          "base_uri": "https://localhost:8080/",
          "height": 294
        },
        "id": "qYo12Aw0sePd",
        "outputId": "f021059a-0823-47cc-d380-5a9f8b9988e3"
      },
      "source": [
        "data.groupby(['l_ipn'])['r_asn'].count().plot(kind='bar')"
      ],
      "execution_count": null,
      "outputs": [
        {
          "output_type": "execute_result",
          "data": {
            "text/plain": [
              "<matplotlib.axes._subplots.AxesSubplot at 0x7f767d61fa90>"
            ]
          },
          "metadata": {},
          "execution_count": 77
        },
        {
          "output_type": "display_data",
          "data": {
            "image/png": "[encoded data removed]",
            "text/plain": [
              "<Figure size 432x288 with 1 Axes>"
            ]
          },
          "metadata": {
            "needs_background": "light"
          }
        }
      ]
    },
    {
      "cell_type": "code",
      "metadata": {
        "colab": {
          "base_uri": "https://localhost:8080/"
        },
        "id": "LdHN9dUGylQ0",
        "outputId": "13498611-eb58-412b-c898-d9661917451f"
      },
      "source": [
        "data.groupby(['date','l_ipn'])['l_ipn'].count().sort_values(ascending=False)"
      ],
      "execution_count": null,
      "outputs": [
        {
          "output_type": "execute_result",
          "data": {
            "text/plain": [
              "date        l_ipn\n",
              "2006-07-21  9        96\n",
              "2006-08-02  9        94\n",
              "2006-07-25  9        85\n",
              "2006-08-11  8        85\n",
              "2006-09-30  8        84\n",
              "                     ..\n",
              "2006-09-07  9         2\n",
              "2006-07-02  9         2\n",
              "2006-07-14  9         2\n",
              "2006-08-20  9         2\n",
              "2006-09-27  6         1\n",
              "Name: l_ipn, Length: 847, dtype: int64"
            ]
          },
          "metadata": {},
          "execution_count": 104
        }
      ]
    },
    {
      "cell_type": "code",
      "metadata": {
        "id": "M3BYy7x7ypHN"
      },
      "source": [
        "target_months = data[(data['date'] > '2006-08-01') & (data['date'] < '2006-09-30')]"
      ],
      "execution_count": null,
      "outputs": []
    },
    {
      "cell_type": "code",
      "metadata": {
        "colab": {
          "base_uri": "https://localhost:8080/"
        },
        "id": "_24DSIbZ3TbL",
        "outputId": "735aec1f-67d1-4c2c-dd33-10ff291826f6"
      },
      "source": [
        "tar[target_months['f'] == 0]"
      ],
      "execution_count": null,
      "outputs": [
        {
          "output_type": "execute_result",
          "data": {
            "text/plain": [
              "count     12667.000000\n",
              "mean        129.703324\n",
              "std        7385.793568\n",
              "min           1.000000\n",
              "25%           1.000000\n",
              "50%           2.000000\n",
              "75%           8.000000\n",
              "max      784234.000000\n",
              "Name: f, dtype: float64"
            ]
          },
          "metadata": {},
          "execution_count": 108
        }
      ]
    },
    {
      "cell_type": "code",
      "metadata": {
        "colab": {
          "base_uri": "https://localhost:8080/",
          "height": 415
        },
        "id": "m0SdHv-Y4LQt",
        "outputId": "cff26a2b-e85c-424a-a13c-161851e8c29d"
      },
      "source": [
        "data[data['date']=='2006-08-24'].sort_values(by='f',ascending=False)"
      ],
      "execution_count": null,
      "outputs": [
        {
          "output_type": "execute_result",
          "data": {
            "text/html": [
              "<div>\n",
              "<style scoped>\n",
              "    .dataframe tbody tr th:only-of-type {\n",
              "        vertical-align: middle;\n",
              "    }\n",
              "\n",
              "    .dataframe tbody tr th {\n",
              "        vertical-align: top;\n",
              "    }\n",
              "\n",
              "    .dataframe thead th {\n",
              "        text-align: right;\n",
              "    }\n",
              "</style>\n",
              "<table border=\"1\" class=\"dataframe\">\n",
              "  <thead>\n",
              "    <tr style=\"text-align: right;\">\n",
              "      <th></th>\n",
              "      <th>date</th>\n",
              "      <th>l_ipn</th>\n",
              "      <th>r_asn</th>\n",
              "      <th>f</th>\n",
              "    </tr>\n",
              "  </thead>\n",
              "  <tbody>\n",
              "    <tr>\n",
              "      <th>13322</th>\n",
              "      <td>2006-08-24</td>\n",
              "      <td>1</td>\n",
              "      <td>3307</td>\n",
              "      <td>2044</td>\n",
              "    </tr>\n",
              "    <tr>\n",
              "      <th>13345</th>\n",
              "      <td>2006-08-24</td>\n",
              "      <td>1</td>\n",
              "      <td>33438</td>\n",
              "      <td>1663</td>\n",
              "    </tr>\n",
              "    <tr>\n",
              "      <th>13320</th>\n",
              "      <td>2006-08-24</td>\n",
              "      <td>1</td>\n",
              "      <td>2108</td>\n",
              "      <td>1660</td>\n",
              "    </tr>\n",
              "    <tr>\n",
              "      <th>13501</th>\n",
              "      <td>2006-08-24</td>\n",
              "      <td>8</td>\n",
              "      <td>32632</td>\n",
              "      <td>989</td>\n",
              "    </tr>\n",
              "    <tr>\n",
              "      <th>13519</th>\n",
              "      <td>2006-08-24</td>\n",
              "      <td>9</td>\n",
              "      <td>15169</td>\n",
              "      <td>893</td>\n",
              "    </tr>\n",
              "    <tr>\n",
              "      <th>...</th>\n",
              "      <td>...</td>\n",
              "      <td>...</td>\n",
              "      <td>...</td>\n",
              "      <td>...</td>\n",
              "    </tr>\n",
              "    <tr>\n",
              "      <th>13346</th>\n",
              "      <td>2006-08-24</td>\n",
              "      <td>1</td>\n",
              "      <td>37945</td>\n",
              "      <td>1</td>\n",
              "    </tr>\n",
              "    <tr>\n",
              "      <th>13344</th>\n",
              "      <td>2006-08-24</td>\n",
              "      <td>1</td>\n",
              "      <td>21844</td>\n",
              "      <td>1</td>\n",
              "    </tr>\n",
              "    <tr>\n",
              "      <th>13338</th>\n",
              "      <td>2006-08-24</td>\n",
              "      <td>1</td>\n",
              "      <td>9908</td>\n",
              "      <td>1</td>\n",
              "    </tr>\n",
              "    <tr>\n",
              "      <th>13326</th>\n",
              "      <td>2006-08-24</td>\n",
              "      <td>1</td>\n",
              "      <td>4323</td>\n",
              "      <td>1</td>\n",
              "    </tr>\n",
              "    <tr>\n",
              "      <th>13522</th>\n",
              "      <td>2006-08-24</td>\n",
              "      <td>9</td>\n",
              "      <td>36856</td>\n",
              "      <td>1</td>\n",
              "    </tr>\n",
              "  </tbody>\n",
              "</table>\n",
              "<p>247 rows × 4 columns</p>\n",
              "</div>"
            ],
            "text/plain": [
              "            date  l_ipn  r_asn     f\n",
              "13322 2006-08-24      1   3307  2044\n",
              "13345 2006-08-24      1  33438  1663\n",
              "13320 2006-08-24      1   2108  1660\n",
              "13501 2006-08-24      8  32632   989\n",
              "13519 2006-08-24      9  15169   893\n",
              "...          ...    ...    ...   ...\n",
              "13346 2006-08-24      1  37945     1\n",
              "13344 2006-08-24      1  21844     1\n",
              "13338 2006-08-24      1   9908     1\n",
              "13326 2006-08-24      1   4323     1\n",
              "13522 2006-08-24      9  36856     1\n",
              "\n",
              "[247 rows x 4 columns]"
            ]
          },
          "metadata": {},
          "execution_count": 114
        }
      ]
    },
    {
      "cell_type": "code",
      "metadata": {
        "colab": {
          "base_uri": "https://localhost:8080/"
        },
        "id": "0ekHU_Uh4npP",
        "outputId": "d9828878-cf40-4fdf-a6a1-06683d519254"
      },
      "source": [
        "target_months.groupby(['date','r_asn'])['l_ipn'].count().sort_values(ascending=False)"
      ],
      "execution_count": null,
      "outputs": [
        {
          "output_type": "execute_result",
          "data": {
            "text/plain": [
              "date        r_asn\n",
              "2006-08-02  1239     9\n",
              "2006-08-23  3269     9\n",
              "2006-08-06  7497     9\n",
              "2006-08-05  7497     9\n",
              "2006-08-10  17184    9\n",
              "                    ..\n",
              "2006-09-06  17620    1\n",
              "            17621    1\n",
              "            17896    1\n",
              "            17964    1\n",
              "2006-08-02  3        1\n",
              "Name: l_ipn, Length: 8097, dtype: int64"
            ]
          },
          "metadata": {},
          "execution_count": 124
        }
      ]
    },
    {
      "cell_type": "code",
      "metadata": {
        "colab": {
          "base_uri": "https://localhost:8080/"
        },
        "id": "ESU6okUu6M1K",
        "outputId": "d746bb25-f09b-4999-c1ed-7d25837e0a8f"
      },
      "source": [
        "target_months.groupby('date')['f'].mean()"
      ],
      "execution_count": null,
      "outputs": [
        {
          "output_type": "execute_result",
          "data": {
            "text/plain": [
              "date\n",
              "2006-08-02      32.322581\n",
              "2006-08-03      18.166667\n",
              "2006-08-04      53.891304\n",
              "2006-08-05      20.655814\n",
              "2006-08-06      36.950249\n",
              "2006-08-07      15.760274\n",
              "2006-08-08      54.450644\n",
              "2006-08-09      35.662069\n",
              "2006-08-10      31.692063\n",
              "2006-08-11      49.955882\n",
              "2006-08-12      44.537190\n",
              "2006-08-13      39.184713\n",
              "2006-08-14      40.810680\n",
              "2006-08-15      67.727273\n",
              "2006-08-16      43.895307\n",
              "2006-08-17     170.571429\n",
              "2006-08-18      38.465608\n",
              "2006-08-19      42.877273\n",
              "2006-08-20      46.600840\n",
              "2006-08-21     112.080000\n",
              "2006-08-22      82.725979\n",
              "2006-08-23      60.592334\n",
              "2006-08-24      47.080972\n",
              "2006-08-25      75.846154\n",
              "2006-08-26      78.625000\n",
              "2006-08-27      24.926554\n",
              "2006-08-28      32.250000\n",
              "2006-08-29      34.791096\n",
              "2006-08-30      30.170404\n",
              "2006-08-31      36.797980\n",
              "2006-09-01      41.813830\n",
              "2006-09-02      24.941176\n",
              "2006-09-03      29.074074\n",
              "2006-09-04      22.706294\n",
              "2006-09-05      33.591195\n",
              "2006-09-06      15.974619\n",
              "2006-09-07      24.190476\n",
              "2006-09-08      38.752809\n",
              "2006-09-09      16.863905\n",
              "2006-09-10      21.476190\n",
              "2006-09-11      26.181818\n",
              "2006-09-12      37.051502\n",
              "2006-09-13      54.907895\n",
              "2006-09-14      32.974170\n",
              "2006-09-15      15.930233\n",
              "2006-09-16     109.050955\n",
              "2006-09-17    1849.846667\n",
              "2006-09-18    4307.633880\n",
              "2006-09-19      43.292553\n",
              "2006-09-20     141.651584\n",
              "2006-09-21      45.637255\n",
              "2006-09-22      25.375610\n",
              "2006-09-23      52.745562\n",
              "2006-09-24      27.453333\n",
              "2006-09-25      27.887701\n",
              "2006-09-26      51.146520\n",
              "2006-09-27      22.155080\n",
              "2006-09-28      66.363095\n",
              "2006-09-29     164.162338\n",
              "Name: f, dtype: float64"
            ]
          },
          "metadata": {},
          "execution_count": 128
        }
      ]
    },
    {
      "cell_type": "code",
      "metadata": {
        "colab": {
          "base_uri": "https://localhost:8080/",
          "height": 390
        },
        "id": "r-DFFQv7B_zV",
        "outputId": "73274849-8e4a-43cb-b585-b85e08808352"
      },
      "source": [
        "target_months[target_months['date']>\"2006-09-01\"].groupby('date')['f'].count().plot(kind='bar')"
      ],
      "execution_count": null,
      "outputs": [
        {
          "output_type": "execute_result",
          "data": {
            "text/plain": [
              "<matplotlib.axes._subplots.AxesSubplot at 0x7f7679a53790>"
            ]
          },
          "metadata": {},
          "execution_count": 150
        },
        {
          "output_type": "display_data",
          "data": {
            "image/png": "[encoded data removed]",
            "text/plain": [
              "<Figure size 432x288 with 1 Axes>"
            ]
          },
          "metadata": {
            "needs_background": "light"
          }
        }
      ]
    },
    {
      "cell_type": "code",
      "metadata": {
        "id": "lj_YfPpiCK6r"
      },
      "source": [
        ""
      ],
      "execution_count": null,
      "outputs": []
    }
  ]
}